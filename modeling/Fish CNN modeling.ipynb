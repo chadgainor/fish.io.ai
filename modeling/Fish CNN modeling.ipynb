{
 "cells": [
  {
   "cell_type": "code",
   "execution_count": null,
   "metadata": {
    "collapsed": true
   },
   "outputs": [],
   "source": [
    "import numpy as np\n",
    "from keras.preprocessing.image import ImageDataGenerator\n",
    "from keras.models import Sequential\n",
    "from keras.layers import Dropout, Flatten, Dense\n",
    "from keras import applications\n",
    "import os"
   ]
  },
  {
   "cell_type": "code",
   "execution_count": null,
   "metadata": {
    "collapsed": true
   },
   "outputs": [],
   "source": [
    "data_dir = 'data/test'\n",
    "batch_count = 50\n",
    "img_width = 224\n",
    "img_height = 224\n",
    "batch_size = 16\n",
    "\n",
    "def transform_batches(data_dir, data_gen_dir):\n",
    "    X_transformed = []\n",
    "    Y = []\n",
    "    datagen = ImageDataGenerator(\n",
    "            rotation_range=10,\n",
    "            width_shift_range=0.1,\n",
    "            height_shift_range=0.1,\n",
    "            horizontal_flip=True)\n",
    "\n",
    "    count = 0\n",
    "    for X_batch, Y_batch in datagen.flow_from_directory(\n",
    "            data_dir,\n",
    "            target_size=(img_width, img_height),\n",
    "            batch_size=batch_size,\n",
    "            class_mode='binary',\n",
    "            shuffle=True,\n",
    "            save_to_dir=data_gen_dir):\n",
    "        print('Batch ', count, '/', batch_count)\n",
    "        X_transformed.append(model.predict_on_batch(X_batch))\n",
    "        Y.append(Y_batch)\n",
    "        count += 1\n",
    "        if len(Y) == batch_count:\n",
    "            print('All done, gubna!')\n",
    "            X_transformed = np.concatenate(X_transformed)\n",
    "            Y = np.concatenate(Y)\n",
    "            break\n",
    "    \n",
    "    return X_transformed, Y\n",
    "\n",
    "def train_top_model(X_train, Y_train, X_test, Y_test, top_model_weights_path, epochs = 50, batch_size = 32):\n",
    "    \n",
    "    model = Sequential()\n",
    "    model.add(Flatten(input_shape=X_train.shape[1:]))\n",
    "    model.add(Dense(1024, activation='relu'))\n",
    "    model.add(Dropout(0.5))\n",
    "    model.add(Dense(512, activation='relu'))\n",
    "    model.add(Dropout(0.5))\n",
    "    model.add(Dense(1, activation='sigmoid'))\n",
    "\n",
    "    model.compile(optimizer='rmsprop',\n",
    "                  loss='binary_crossentropy', metrics=['accuracy'])\n",
    "\n",
    "    model.fit(X_train, Y_train,\n",
    "              epochs=epochs,\n",
    "              batch_size=batch_size,\n",
    "              validation_data=(X_test, Y_test))\n",
    "    model.save_weights(top_model_weights_path)\n",
    "    return model"
   ]
  },
  {
   "cell_type": "code",
   "execution_count": null,
   "metadata": {
    "collapsed": true
   },
   "outputs": [],
   "source": [
    "model = applications.VGG16(include_top=False, weights='imagenet')\n",
    "\n",
    "X_test, Y_test = transform_batches('data/test', 'data/generated')\n",
    "\n",
    "X_train, Y_train = transform_batches('data/train', 'data/generated')\n",
    "\n",
    "np.save('data/X_test_transformed.npy',X_test)\n",
    "np.save('data/Y_test_transformed.npy',Y_test)\n",
    "np.save('data/X_train_transformed.npy',X_train)\n",
    "np.save('data/Y_train_transformed.npy',Y_train)\n",
    "\n",
    "top_model = train_top_model(X_train, Y_train, X_test, Y_test, 'data/top_model_1.h5')"
   ]
  }
 ],
 "metadata": {
  "anaconda-cloud": {},
  "kernelspec": {
   "display_name": "Python [Root]",
   "language": "python",
   "name": "Python [Root]"
  },
  "language_info": {
   "codemirror_mode": {
    "name": "ipython",
    "version": 3
   },
   "file_extension": ".py",
   "mimetype": "text/x-python",
   "name": "python",
   "nbconvert_exporter": "python",
   "pygments_lexer": "ipython3",
   "version": "3.5.2"
  }
 },
 "nbformat": 4,
 "nbformat_minor": 0
}
